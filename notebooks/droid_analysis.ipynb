{
 "cells": [
  {
   "cell_type": "code",
   "execution_count": 8,
   "metadata": {},
   "outputs": [
    {
     "name": "stderr",
     "output_type": "stream",
     "text": [
      "142it [00:00, 1072.53it/s]\n",
      "238it [00:00, 1651.37it/s]\n",
      "357it [00:00, 1752.44it/s]\n",
      "166it [00:00, 1125.05it/s]\n",
      "596it [00:00, 1570.69it/s]\n",
      "181it [00:00, 1174.03it/s]\n",
      "128it [00:00, 1273.09it/s]2025-03-26 21:58:30.879147: I tensorflow/core/framework/local_rendezvous.cc:407] Local rendezvous is aborting with status: OUT_OF_RANGE: End of sequence\n",
      "231it [00:00, 1265.96it/s]\n",
      "213it [00:00, 1369.66it/s]\n",
      "205it [00:00, 1151.04it/s]\n",
      "355it [00:00, 1226.69it/s]\n",
      "114it [00:00, 1153.62it/s]\n",
      "214it [00:00, 1152.39it/s]\n",
      "196it [00:00, 1091.87it/s]\n",
      "360it [00:00, 1402.61it/s]\n",
      "190it [00:00, 1258.72it/s]\n",
      "173it [00:00, 1089.65it/s]\n",
      "2it [00:00, 18.34it/s]"
     ]
    },
    {
     "name": "stdout",
     "output_type": "stream",
     "text": [
      "Episode 16 saved to ../data/droid_100/Slide_the_black_lid_off\n"
     ]
    },
    {
     "name": "stderr",
     "output_type": "stream",
     "text": [
      "189it [00:08, 22.77it/s]\n",
      "2it [00:00, 13.75it/s]"
     ]
    },
    {
     "name": "stdout",
     "output_type": "stream",
     "text": [
      "Episode 17 saved to ../data/droid_100/Use_the_duster_to_wipe_the_whiteboard\n"
     ]
    },
    {
     "name": "stderr",
     "output_type": "stream",
     "text": [
      "213it [00:10, 20.66it/s]\n",
      "264it [00:00, 1228.07it/s]\n",
      "2it [00:00, 12.78it/s]"
     ]
    },
    {
     "name": "stdout",
     "output_type": "stream",
     "text": [
      "Episode 19 saved to ../data/droid_100/Turn_off_the_left_light_switch\n"
     ]
    },
    {
     "name": "stderr",
     "output_type": "stream",
     "text": [
      "248it [00:11, 22.45it/s]\n"
     ]
    }
   ],
   "source": [
    "import os\n",
    "import tensorflow_datasets as tfds\n",
    "import numpy as np\n",
    "from tqdm import tqdm\n",
    "from PIL import Image\n",
    "from IPython import display\n",
    "\n",
    "def as_gif(images, path=\"temp.gif\"):\n",
    "  # Render the images as the gif (15Hz control frequency):\n",
    "  images[0].save(path, save_all=True, append_images=images[1:], duration=int(1000/15), loop=0)\n",
    "  gif_bytes = open(path,\"rb\").read()\n",
    "  return gif_bytes\n",
    "\n",
    "\n",
    "ds = tfds.load(\"droid_100\", data_dir=\"../data\", split=\"train\")\n",
    "\n",
    "images, save_mode = [], True\n",
    "for ep_idx, episode in enumerate(ds.shuffle(10, seed=0).take(20)):\n",
    "  for i, step in tqdm(enumerate(episode[\"steps\"])):\n",
    "    if save_mode:\n",
    "      language_instruction = step['language_instruction'].numpy().decode(\"utf-8\")\n",
    "      save_dir = f\"../data/droid_100/{language_instruction.replace(' ', '_').replace('.', '')}\"\n",
    "      if language_instruction == \"\":\n",
    "        continue\n",
    "      if not os.path.exists(save_dir):\n",
    "        print(f\"Episode {ep_idx} saved to {save_dir}\")\n",
    "        os.makedirs(save_dir)\n",
    "        os.makedirs(f\"{save_dir}/exterior_image_1_left\")\n",
    "        os.makedirs(f\"{save_dir}/exterior_image_2_left\")\n",
    "        os.makedirs(f\"{save_dir}/wrist_image_left\")\n",
    "      if not os.path.exists(f\"{save_dir}/exterior_image_1_left/{i:03d}.png\"):\n",
    "        Image.fromarray(step[\"observation\"][\"exterior_image_1_left\"].numpy()).save(f\"{save_dir}/exterior_image_1_left/{i:03d}.png\")\n",
    "        Image.fromarray(step[\"observation\"][\"exterior_image_2_left\"].numpy()).save(f\"{save_dir}/exterior_image_2_left/{i:03d}.png\")\n",
    "        Image.fromarray(step[\"observation\"][\"wrist_image_left\"].numpy()).save(f\"{save_dir}/wrist_image_left/{i:03d}.png\")\n",
    "    else:\n",
    "      images.append(\n",
    "        Image.fromarray(\n",
    "          np.concatenate((\n",
    "                step[\"observation\"][\"exterior_image_1_left\"].numpy(),\n",
    "                step[\"observation\"][\"exterior_image_2_left\"].numpy(),\n",
    "                step[\"observation\"][\"wrist_image_left\"].numpy(),\n",
    "          ), axis=1)\n",
    "        )\n",
    "      )\n",
    "\n",
    "if not save_mode:\n",
    "  display.Image(as_gif(images))"
   ]
  },
  {
   "cell_type": "code",
   "execution_count": null,
   "metadata": {},
   "outputs": [],
   "source": [
    "# Available Features (note that 'reward' is a dummy feature at the moment)\n",
    "import tensorflow_datasets as tfds\n",
    "\n",
    "builder = tfds.builder_from_directory(builder_dir=\"gs://gresearch/robotics/droid/1.0.0\")\n",
    "builder.info.features"
   ]
  }
 ],
 "metadata": {
  "kernelspec": {
   "display_name": "iclight-bkup",
   "language": "python",
   "name": "python3"
  },
  "language_info": {
   "codemirror_mode": {
    "name": "ipython",
    "version": 3
   },
   "file_extension": ".py",
   "mimetype": "text/x-python",
   "name": "python",
   "nbconvert_exporter": "python",
   "pygments_lexer": "ipython3",
   "version": "3.10.16"
  }
 },
 "nbformat": 4,
 "nbformat_minor": 2
}
